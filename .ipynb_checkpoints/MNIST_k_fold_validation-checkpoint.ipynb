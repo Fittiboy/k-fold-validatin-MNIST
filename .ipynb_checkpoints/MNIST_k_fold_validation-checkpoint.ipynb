{
 "cells": [
  {
   "cell_type": "code",
   "execution_count": 1,
   "metadata": {
    "colab": {},
    "colab_type": "code",
    "id": "89PTwpvYCvlH"
   },
   "outputs": [],
   "source": [
    "from tensorflow import keras\n",
    "from tensorflow.keras import datasets, layers, Sequential\n",
    "import numpy as np"
   ]
  },
  {
   "cell_type": "code",
   "execution_count": 2,
   "metadata": {
    "colab": {},
    "colab_type": "code",
    "id": "cTugcMcLC9mw"
   },
   "outputs": [],
   "source": [
    "mnist = datasets.mnist"
   ]
  },
  {
   "cell_type": "code",
   "execution_count": 3,
   "metadata": {
    "colab": {},
    "colab_type": "code",
    "id": "fBimzBTLDAYS"
   },
   "outputs": [],
   "source": [
    "(train_data, train_labels), (test_data, test_labels) = mnist.load_data()\n",
    "train_data = np.expand_dims(train_data, axis=-1)\n",
    "test_data = np.expand_dims(test_data, axis=-1)"
   ]
  },
  {
   "cell_type": "code",
   "execution_count": 4,
   "metadata": {
    "colab": {},
    "colab_type": "code",
    "id": "4vU3YWt6DEo-"
   },
   "outputs": [],
   "source": [
    "train_data = train_data / 255.\n",
    "test_data = test_data / 255."
   ]
  },
  {
   "cell_type": "code",
   "execution_count": 5,
   "metadata": {
    "colab": {
     "base_uri": "https://localhost:8080/",
     "height": 86
    },
    "colab_type": "code",
    "id": "MT0AahpeDNui",
    "outputId": "62810c8d-48ee-4d10-f20e-3fb4b24afb27"
   },
   "outputs": [
    {
     "name": "stdout",
     "output_type": "stream",
     "text": [
      "(60000, 28, 28, 1)\n",
      "(10000, 28, 28, 1)\n",
      "(60000,)\n",
      "(10000,)\n"
     ]
    }
   ],
   "source": [
    "print(train_data.shape)\n",
    "print(test_data.shape)\n",
    "print(train_labels.shape)\n",
    "print(test_labels.shape)"
   ]
  },
  {
   "cell_type": "code",
   "execution_count": 6,
   "metadata": {
    "colab": {},
    "colab_type": "code",
    "id": "dMO679MuF6Tr"
   },
   "outputs": [],
   "source": [
    "def get_model():\n",
    "  model = Sequential([\n",
    "                      layers.Conv2D(2, (3, 3), activation='relu', input_shape=(28, 28, 1)),\n",
    "                      layers.Dropout(0.3),\n",
    "                      layers.Conv2D(4, (3, 3), activation='relu'),\n",
    "                      layers.Dropout(0.3),\n",
    "                      layers.Conv2D(8, (3, 3), activation='relu'),\n",
    "                      layers.Dropout(0.3),\n",
    "                      layers.Conv2D(16, (3, 3), activation='relu'),\n",
    "                      layers.Dropout(0.3),\n",
    "                      layers.MaxPooling2D(strides=(2, 2)),\n",
    "                      layers.Flatten(),\n",
    "                      layers.Dropout(0.3),\n",
    "                      layers.Dense(128, activation='relu'),\n",
    "                      layers.Dropout(0.3),\n",
    "                      layers.Dense(10, activation='softmax')\n",
    "  ])\n",
    "  model.compile(optimizer=keras.optimizers.Adam(learning_rate=0.001),\n",
    "                loss='sparse_categorical_crossentropy', metrics=['accuracy'])\n",
    "\n",
    "  return model"
   ]
  },
  {
   "cell_type": "code",
   "execution_count": 7,
   "metadata": {
    "colab": {},
    "colab_type": "code",
    "id": "WcBpDXAWG-CN"
   },
   "outputs": [],
   "source": [
    "train_dl = [(data, label) for data, label in zip(train_data, train_labels)]\n",
    "np.random.shuffle(train_dl)\n",
    "k = 4\n",
    "num_val_samples = len(train_dl) // k"
   ]
  },
  {
   "cell_type": "code",
   "execution_count": 8,
   "metadata": {
    "colab": {
     "base_uri": "https://localhost:8080/",
     "height": 225
    },
    "colab_type": "code",
    "id": "v82Qxz9dHLn3",
    "outputId": "1c8d7ca9-3983-4c93-82f8-3b54d25d31a9",
    "scrolled": true
   },
   "outputs": [
    {
     "name": "stdout",
     "output_type": "stream",
     "text": [
      "\n",
      "Processing fold 1...\n",
      "\n",
      "Completed epoch 0\n",
      "Completed epoch 5\n",
      "Completed epoch 10\n",
      "Completed epoch 15\n",
      "Completed epoch 20\n",
      "Completed epoch 25\n",
      "Completed epoch 30\n",
      "Completed epoch 35\n",
      "Completed epoch 40\n",
      "Completed epoch 45\n",
      "\n",
      "Processing fold 2...\n",
      "\n",
      "Completed epoch 0\n",
      "Completed epoch 5\n",
      "Completed epoch 10\n",
      "Completed epoch 15\n",
      "Completed epoch 20\n",
      "Completed epoch 25\n",
      "Completed epoch 30\n",
      "Completed epoch 35\n",
      "Completed epoch 40\n",
      "Completed epoch 45\n",
      "\n",
      "Processing fold 3...\n",
      "\n",
      "Completed epoch 0\n",
      "Completed epoch 5\n",
      "Completed epoch 10\n",
      "Completed epoch 15\n",
      "Completed epoch 20\n",
      "Completed epoch 25\n",
      "Completed epoch 30\n",
      "Completed epoch 35\n",
      "Completed epoch 40\n",
      "Completed epoch 45\n",
      "\n",
      "Processing fold 4...\n",
      "\n",
      "Completed epoch 0\n",
      "Completed epoch 5\n",
      "Completed epoch 10\n",
      "Completed epoch 15\n",
      "Completed epoch 20\n",
      "Completed epoch 25\n",
      "Completed epoch 30\n",
      "Completed epoch 35\n",
      "Completed epoch 40\n",
      "Completed epoch 45\n"
     ]
    }
   ],
   "source": [
    "dev_scores = []\n",
    "num_epochs = 50\n",
    "\n",
    "class ReportCallback(keras.callbacks.Callback):\n",
    "  def on_epoch_end(self, epoch, logs={}):\n",
    "    if epoch % 5 == 0:\n",
    "      print(\"Completed epoch {}\".format(epoch))\n",
    "\n",
    "report_callback = ReportCallback()\n",
    "\n",
    "for fold in range(k):\n",
    "  print(f\"\\nProcessing fold {fold + 1}...\\n\")\n",
    "\n",
    "  dev_data = train_data[fold*num_val_samples:(fold+1)*num_val_samples]\n",
    "  dev_labels = train_labels[fold*num_val_samples:(fold+1)*num_val_samples]\n",
    "\n",
    "  partial_train_data = np.concatenate(\n",
    "      [train_data[:fold*num_val_samples],\n",
    "       train_data[(fold+1)*num_val_samples:]],\n",
    "       axis = 0\n",
    "  )\n",
    "  partial_train_labels = np.concatenate(\n",
    "      [train_labels[:fold*num_val_samples],\n",
    "       train_labels[(fold+1)*num_val_samples:]],\n",
    "       axis = 0\n",
    "  )\n",
    "  \n",
    "  model = get_model()\n",
    "  history = model.fit(partial_train_data, partial_train_labels, epochs = num_epochs, validation_data=(dev_data, dev_labels),\n",
    "                      callbacks=[report_callback], verbose=0)\n",
    "  dev_score = history.history['val_accuracy']\n",
    "  dev_scores.append(dev_score)"
   ]
  },
  {
   "cell_type": "code",
   "execution_count": 9,
   "metadata": {
    "colab": {},
    "colab_type": "code",
    "id": "7uZc56JuPjk7"
   },
   "outputs": [],
   "source": [
    "import matplotlib.pyplot as plt"
   ]
  },
  {
   "cell_type": "code",
   "execution_count": 10,
   "metadata": {
    "colab": {},
    "colab_type": "code",
    "id": "S4VY9RTjO_q-"
   },
   "outputs": [],
   "source": [
    "mean_dev_scores = [\n",
    "                   np.mean([x[i] for x in dev_scores]) for i in range(num_epochs)\n",
    "]"
   ]
  },
  {
   "cell_type": "code",
   "execution_count": 11,
   "metadata": {
    "colab": {},
    "colab_type": "code",
    "id": "gRXHuX4qRFrs"
   },
   "outputs": [
    {
     "data": {
      "image/png": "[encoded data removed]",
      "text/plain": [
       "<Figure size 432x288 with 1 Axes>"
      ]
     },
     "metadata": {
      "needs_background": "light"
     },
     "output_type": "display_data"
    }
   ],
   "source": [
    "plt.plot(mean_dev_scores, label=\"Mean Accuracy\")\n",
    "plt.legend()\n",
    "plt.xlabel(\"Epochs\")\n",
    "plt.ylabel(\"Accuracy\")\n",
    "plt.show()"
   ]
  },
  {
   "cell_type": "code",
   "execution_count": 12,
   "metadata": {
    "colab": {},
    "colab_type": "code",
    "id": "HwzBHcIzXae0",
    "scrolled": true
   },
   "outputs": [
    {
     "name": "stdout",
     "output_type": "stream",
     "text": [
      "Epoch 1/100\n",
      "1875/1875 [==============================] - 6s 3ms/step - loss: 0.4176 - accuracy: 0.8684 - val_loss: 0.1497 - val_accuracy: 0.9683\n",
      "Epoch 2/100\n",
      "1875/1875 [==============================] - 6s 3ms/step - loss: 0.1931 - accuracy: 0.9413 - val_loss: 0.0978 - val_accuracy: 0.9781\n",
      "Epoch 3/100\n",
      "1875/1875 [==============================] - 6s 3ms/step - loss: 0.1445 - accuracy: 0.9552 - val_loss: 0.0677 - val_accuracy: 0.9813\n",
      "Epoch 4/100\n",
      "1875/1875 [==============================] - 6s 3ms/step - loss: 0.1197 - accuracy: 0.9631 - val_loss: 0.0581 - val_accuracy: 0.9845\n",
      "Epoch 5/100\n",
      "1875/1875 [==============================] - 6s 3ms/step - loss: 0.1057 - accuracy: 0.9670 - val_loss: 0.0556 - val_accuracy: 0.9883\n",
      "Epoch 6/100\n",
      "1875/1875 [==============================] - 6s 3ms/step - loss: 0.0939 - accuracy: 0.9712 - val_loss: 0.0527 - val_accuracy: 0.9876\n",
      "Epoch 7/100\n",
      "1875/1875 [==============================] - 6s 3ms/step - loss: 0.0845 - accuracy: 0.9738 - val_loss: 0.0426 - val_accuracy: 0.9875\n",
      "Epoch 8/100\n",
      "1875/1875 [==============================] - 6s 3ms/step - loss: 0.0812 - accuracy: 0.9749 - val_loss: 0.0437 - val_accuracy: 0.9876\n",
      "Epoch 9/100\n",
      "1875/1875 [==============================] - 6s 3ms/step - loss: 0.0753 - accuracy: 0.9764 - val_loss: 0.0382 - val_accuracy: 0.9886\n",
      "Epoch 10/100\n",
      "1875/1875 [==============================] - 6s 3ms/step - loss: 0.0695 - accuracy: 0.9782 - val_loss: 0.0396 - val_accuracy: 0.9894\n",
      "Epoch 11/100\n",
      "1875/1875 [==============================] - 6s 3ms/step - loss: 0.0663 - accuracy: 0.9790 - val_loss: 0.0389 - val_accuracy: 0.9897\n",
      "Epoch 12/100\n",
      "1875/1875 [==============================] - 6s 3ms/step - loss: 0.0638 - accuracy: 0.9795 - val_loss: 0.0360 - val_accuracy: 0.9900\n",
      "Epoch 13/100\n",
      "1875/1875 [==============================] - 6s 3ms/step - loss: 0.0605 - accuracy: 0.9810 - val_loss: 0.0317 - val_accuracy: 0.9905\n",
      "Epoch 14/100\n",
      "1875/1875 [==============================] - 7s 4ms/step - loss: 0.0595 - accuracy: 0.9805 - val_loss: 0.0338 - val_accuracy: 0.9889\n",
      "Epoch 15/100\n",
      "1875/1875 [==============================] - 7s 4ms/step - loss: 0.0585 - accuracy: 0.9816 - val_loss: 0.0329 - val_accuracy: 0.9899\n",
      "Epoch 16/100\n",
      "1875/1875 [==============================] - 6s 3ms/step - loss: 0.0547 - accuracy: 0.9826 - val_loss: 0.0288 - val_accuracy: 0.9916\n",
      "Epoch 17/100\n",
      "1875/1875 [==============================] - 6s 3ms/step - loss: 0.0555 - accuracy: 0.9827 - val_loss: 0.0292 - val_accuracy: 0.9905\n",
      "Epoch 18/100\n",
      "1875/1875 [==============================] - 6s 3ms/step - loss: 0.0545 - accuracy: 0.9827 - val_loss: 0.0292 - val_accuracy: 0.9908\n",
      "Epoch 19/100\n",
      "1875/1875 [==============================] - 7s 4ms/step - loss: 0.0512 - accuracy: 0.9836 - val_loss: 0.0306 - val_accuracy: 0.9907\n",
      "Epoch 20/100\n",
      "1875/1875 [==============================] - 7s 4ms/step - loss: 0.0518 - accuracy: 0.9835 - val_loss: 0.0300 - val_accuracy: 0.9907\n",
      "Epoch 21/100\n",
      "1875/1875 [==============================] - 7s 4ms/step - loss: 0.0489 - accuracy: 0.9843 - val_loss: 0.0309 - val_accuracy: 0.9906\n",
      "Epoch 22/100\n",
      "1875/1875 [==============================] - 7s 4ms/step - loss: 0.0500 - accuracy: 0.9840 - val_loss: 0.0305 - val_accuracy: 0.9903\n",
      "Epoch 23/100\n",
      "1875/1875 [==============================] - 7s 4ms/step - loss: 0.0500 - accuracy: 0.9840 - val_loss: 0.0290 - val_accuracy: 0.9908\n",
      "Epoch 24/100\n",
      "1875/1875 [==============================] - 7s 4ms/step - loss: 0.0463 - accuracy: 0.9850 - val_loss: 0.0260 - val_accuracy: 0.9919\n",
      "Epoch 25/100\n",
      "1875/1875 [==============================] - 7s 4ms/step - loss: 0.0474 - accuracy: 0.9853 - val_loss: 0.0261 - val_accuracy: 0.9918\n",
      "Epoch 26/100\n",
      "1875/1875 [==============================] - 6s 3ms/step - loss: 0.0463 - accuracy: 0.9859 - val_loss: 0.0287 - val_accuracy: 0.9905\n",
      "Epoch 27/100\n",
      "1875/1875 [==============================] - 7s 3ms/step - loss: 0.0438 - accuracy: 0.9864 - val_loss: 0.0290 - val_accuracy: 0.9910\n",
      "Epoch 28/100\n",
      "1875/1875 [==============================] - 7s 4ms/step - loss: 0.0449 - accuracy: 0.9859 - val_loss: 0.0317 - val_accuracy: 0.9894\n",
      "Epoch 29/100\n",
      "1875/1875 [==============================] - 7s 4ms/step - loss: 0.0456 - accuracy: 0.9855 - val_loss: 0.0314 - val_accuracy: 0.9902\n",
      "Epoch 30/100\n",
      "1875/1875 [==============================] - 7s 4ms/step - loss: 0.0424 - accuracy: 0.9861 - val_loss: 0.0292 - val_accuracy: 0.9909\n",
      "Epoch 31/100\n",
      "1875/1875 [==============================] - 7s 4ms/step - loss: 0.0439 - accuracy: 0.9856 - val_loss: 0.0320 - val_accuracy: 0.9901\n",
      "Epoch 32/100\n",
      "1875/1875 [==============================] - 6s 3ms/step - loss: 0.0409 - accuracy: 0.9869 - val_loss: 0.0297 - val_accuracy: 0.9910\n",
      "Epoch 33/100\n",
      "1875/1875 [==============================] - 7s 4ms/step - loss: 0.0424 - accuracy: 0.9859 - val_loss: 0.0314 - val_accuracy: 0.9903\n",
      "Epoch 34/100\n",
      "1875/1875 [==============================] - 7s 4ms/step - loss: 0.0397 - accuracy: 0.9873 - val_loss: 0.0311 - val_accuracy: 0.9910\n",
      "Epoch 35/100\n",
      "1875/1875 [==============================] - 7s 4ms/step - loss: 0.0422 - accuracy: 0.9866 - val_loss: 0.0293 - val_accuracy: 0.9918\n",
      "Epoch 36/100\n",
      "1875/1875 [==============================] - 7s 4ms/step - loss: 0.0408 - accuracy: 0.9868 - val_loss: 0.0281 - val_accuracy: 0.9925\n",
      "Epoch 37/100\n",
      "1875/1875 [==============================] - 7s 4ms/step - loss: 0.0408 - accuracy: 0.9867 - val_loss: 0.0337 - val_accuracy: 0.9891\n",
      "Epoch 38/100\n",
      "1875/1875 [==============================] - 7s 4ms/step - loss: 0.0400 - accuracy: 0.9873 - val_loss: 0.0270 - val_accuracy: 0.9915\n",
      "Epoch 39/100\n",
      "1875/1875 [==============================] - 6s 3ms/step - loss: 0.0392 - accuracy: 0.9875 - val_loss: 0.0268 - val_accuracy: 0.9914\n",
      "Epoch 40/100\n",
      "1875/1875 [==============================] - 7s 4ms/step - loss: 0.0362 - accuracy: 0.9880 - val_loss: 0.0272 - val_accuracy: 0.9908\n",
      "Epoch 41/100\n",
      "1875/1875 [==============================] - 7s 4ms/step - loss: 0.0375 - accuracy: 0.9880 - val_loss: 0.0302 - val_accuracy: 0.9913\n",
      "Epoch 42/100\n",
      "1875/1875 [==============================] - 7s 4ms/step - loss: 0.0360 - accuracy: 0.9883 - val_loss: 0.0290 - val_accuracy: 0.9913\n",
      "Epoch 43/100\n",
      "1875/1875 [==============================] - 7s 4ms/step - loss: 0.0386 - accuracy: 0.9878 - val_loss: 0.0271 - val_accuracy: 0.9917\n",
      "Epoch 44/100\n",
      "1875/1875 [==============================] - 6s 3ms/step - loss: 0.0384 - accuracy: 0.9882 - val_loss: 0.0274 - val_accuracy: 0.9921\n",
      "Epoch 45/100\n",
      "1875/1875 [==============================] - 6s 3ms/step - loss: 0.0358 - accuracy: 0.9887 - val_loss: 0.0289 - val_accuracy: 0.9912\n",
      "Epoch 46/100\n",
      "1875/1875 [==============================] - 6s 3ms/step - loss: 0.0371 - accuracy: 0.9889 - val_loss: 0.0275 - val_accuracy: 0.9915\n",
      "Epoch 47/100\n",
      "1875/1875 [==============================] - 6s 3ms/step - loss: 0.0359 - accuracy: 0.9881 - val_loss: 0.0279 - val_accuracy: 0.9914\n",
      "Epoch 48/100\n",
      "1875/1875 [==============================] - 6s 3ms/step - loss: 0.0387 - accuracy: 0.9878 - val_loss: 0.0306 - val_accuracy: 0.9905\n",
      "Epoch 49/100\n",
      "1875/1875 [==============================] - 6s 3ms/step - loss: 0.0390 - accuracy: 0.9876 - val_loss: 0.0276 - val_accuracy: 0.9914\n",
      "Epoch 50/100\n",
      "1875/1875 [==============================] - 6s 3ms/step - loss: 0.0345 - accuracy: 0.9891 - val_loss: 0.0289 - val_accuracy: 0.9917\n",
      "Epoch 51/100\n",
      "1875/1875 [==============================] - 6s 3ms/step - loss: 0.0351 - accuracy: 0.9886 - val_loss: 0.0262 - val_accuracy: 0.9918\n",
      "Epoch 52/100\n",
      "1875/1875 [==============================] - 6s 3ms/step - loss: 0.0355 - accuracy: 0.9882 - val_loss: 0.0330 - val_accuracy: 0.9894\n",
      "Epoch 53/100\n",
      "1875/1875 [==============================] - 6s 3ms/step - loss: 0.0344 - accuracy: 0.9890 - val_loss: 0.0303 - val_accuracy: 0.9906\n",
      "Epoch 54/100\n",
      "1875/1875 [==============================] - 6s 3ms/step - loss: 0.0353 - accuracy: 0.9890 - val_loss: 0.0337 - val_accuracy: 0.9895\n",
      "Epoch 55/100\n",
      "1875/1875 [==============================] - 7s 4ms/step - loss: 0.0348 - accuracy: 0.9889 - val_loss: 0.0286 - val_accuracy: 0.9921\n",
      "Epoch 56/100\n",
      "1875/1875 [==============================] - 7s 4ms/step - loss: 0.0359 - accuracy: 0.9880 - val_loss: 0.0298 - val_accuracy: 0.9911\n",
      "Epoch 57/100\n",
      "1875/1875 [==============================] - 7s 4ms/step - loss: 0.0337 - accuracy: 0.9887 - val_loss: 0.0297 - val_accuracy: 0.9913\n",
      "Epoch 58/100\n",
      "1875/1875 [==============================] - 7s 4ms/step - loss: 0.0333 - accuracy: 0.9894 - val_loss: 0.0306 - val_accuracy: 0.9908\n",
      "Epoch 59/100\n",
      "1875/1875 [==============================] - 7s 4ms/step - loss: 0.0329 - accuracy: 0.9894 - val_loss: 0.0275 - val_accuracy: 0.9920\n",
      "Epoch 60/100\n",
      "1875/1875 [==============================] - 7s 4ms/step - loss: 0.0349 - accuracy: 0.9885 - val_loss: 0.0286 - val_accuracy: 0.9915\n",
      "Epoch 61/100\n",
      "1875/1875 [==============================] - 7s 4ms/step - loss: 0.0341 - accuracy: 0.9893 - val_loss: 0.0319 - val_accuracy: 0.9913\n",
      "Epoch 62/100\n",
      "1875/1875 [==============================] - 7s 4ms/step - loss: 0.0317 - accuracy: 0.9898 - val_loss: 0.0291 - val_accuracy: 0.9915\n",
      "Epoch 63/100\n",
      "1875/1875 [==============================] - 7s 4ms/step - loss: 0.0359 - accuracy: 0.9886 - val_loss: 0.0289 - val_accuracy: 0.9916\n",
      "Epoch 64/100\n",
      "1875/1875 [==============================] - 6s 3ms/step - loss: 0.0324 - accuracy: 0.9893 - val_loss: 0.0281 - val_accuracy: 0.9918\n",
      "Epoch 65/100\n",
      "1875/1875 [==============================] - 6s 3ms/step - loss: 0.0336 - accuracy: 0.9893 - val_loss: 0.0289 - val_accuracy: 0.9917\n",
      "Epoch 66/100\n",
      "1875/1875 [==============================] - 6s 3ms/step - loss: 0.0353 - accuracy: 0.9890 - val_loss: 0.0309 - val_accuracy: 0.9911\n",
      "Epoch 67/100\n",
      "1875/1875 [==============================] - 6s 3ms/step - loss: 0.0345 - accuracy: 0.9884 - val_loss: 0.0294 - val_accuracy: 0.9921\n",
      "Epoch 68/100\n",
      "1875/1875 [==============================] - 6s 3ms/step - loss: 0.0327 - accuracy: 0.9896 - val_loss: 0.0307 - val_accuracy: 0.9920\n",
      "Epoch 69/100\n",
      "1875/1875 [==============================] - 7s 4ms/step - loss: 0.0323 - accuracy: 0.9893 - val_loss: 0.0291 - val_accuracy: 0.9918\n",
      "Epoch 70/100\n",
      "1875/1875 [==============================] - 7s 4ms/step - loss: 0.0314 - accuracy: 0.9898 - val_loss: 0.0316 - val_accuracy: 0.9906\n",
      "Epoch 71/100\n",
      "1875/1875 [==============================] - 6s 3ms/step - loss: 0.0344 - accuracy: 0.9889 - val_loss: 0.0383 - val_accuracy: 0.9891\n",
      "Epoch 72/100\n",
      "1875/1875 [==============================] - 7s 4ms/step - loss: 0.0316 - accuracy: 0.9895 - val_loss: 0.0316 - val_accuracy: 0.9911\n",
      "Epoch 73/100\n",
      "1875/1875 [==============================] - 8s 4ms/step - loss: 0.0315 - accuracy: 0.9899 - val_loss: 0.0296 - val_accuracy: 0.9916\n",
      "Epoch 74/100\n",
      "1875/1875 [==============================] - 7s 4ms/step - loss: 0.0340 - accuracy: 0.9889 - val_loss: 0.0299 - val_accuracy: 0.9914\n",
      "Epoch 75/100\n",
      "1875/1875 [==============================] - 7s 3ms/step - loss: 0.0340 - accuracy: 0.9889 - val_loss: 0.0333 - val_accuracy: 0.9907\n",
      "Epoch 76/100\n",
      "1875/1875 [==============================] - 7s 4ms/step - loss: 0.0337 - accuracy: 0.9890 - val_loss: 0.0314 - val_accuracy: 0.9902\n",
      "Epoch 77/100\n",
      "1875/1875 [==============================] - 7s 3ms/step - loss: 0.0327 - accuracy: 0.9895 - val_loss: 0.0310 - val_accuracy: 0.9904\n",
      "Epoch 78/100\n",
      "1875/1875 [==============================] - 7s 4ms/step - loss: 0.0317 - accuracy: 0.9897 - val_loss: 0.0309 - val_accuracy: 0.9913\n",
      "Epoch 79/100\n",
      "1875/1875 [==============================] - 7s 4ms/step - loss: 0.0313 - accuracy: 0.9898 - val_loss: 0.0329 - val_accuracy: 0.9907\n",
      "Epoch 80/100\n",
      "1875/1875 [==============================] - 6s 3ms/step - loss: 0.0331 - accuracy: 0.9887 - val_loss: 0.0310 - val_accuracy: 0.9917\n",
      "Epoch 81/100\n",
      "1875/1875 [==============================] - 6s 3ms/step - loss: 0.0340 - accuracy: 0.9893 - val_loss: 0.0308 - val_accuracy: 0.9916\n",
      "Epoch 82/100\n",
      "1875/1875 [==============================] - 6s 3ms/step - loss: 0.0319 - accuracy: 0.9892 - val_loss: 0.0316 - val_accuracy: 0.9908\n",
      "Epoch 83/100\n",
      "1875/1875 [==============================] - 6s 3ms/step - loss: 0.0317 - accuracy: 0.9898 - val_loss: 0.0308 - val_accuracy: 0.9903\n",
      "Epoch 84/100\n",
      "1875/1875 [==============================] - 6s 3ms/step - loss: 0.0328 - accuracy: 0.9894 - val_loss: 0.0296 - val_accuracy: 0.9918\n",
      "Epoch 85/100\n",
      "1875/1875 [==============================] - 6s 3ms/step - loss: 0.0312 - accuracy: 0.9898 - val_loss: 0.0353 - val_accuracy: 0.9897\n",
      "Epoch 86/100\n",
      "1875/1875 [==============================] - 6s 3ms/step - loss: 0.0317 - accuracy: 0.9896 - val_loss: 0.0291 - val_accuracy: 0.9914\n",
      "Epoch 87/100\n",
      "1875/1875 [==============================] - 6s 3ms/step - loss: 0.0311 - accuracy: 0.9902 - val_loss: 0.0373 - val_accuracy: 0.9902\n",
      "Epoch 88/100\n",
      "1875/1875 [==============================] - 6s 3ms/step - loss: 0.0322 - accuracy: 0.9894 - val_loss: 0.0281 - val_accuracy: 0.9919\n",
      "Epoch 89/100\n",
      "1875/1875 [==============================] - 7s 3ms/step - loss: 0.0317 - accuracy: 0.9897 - val_loss: 0.0290 - val_accuracy: 0.9914\n",
      "Epoch 90/100\n",
      "1875/1875 [==============================] - 7s 4ms/step - loss: 0.0313 - accuracy: 0.9896 - val_loss: 0.0329 - val_accuracy: 0.9907\n",
      "Epoch 91/100\n",
      "1875/1875 [==============================] - 6s 3ms/step - loss: 0.0332 - accuracy: 0.9894 - val_loss: 0.0288 - val_accuracy: 0.9922\n",
      "Epoch 92/100\n",
      "1875/1875 [==============================] - 6s 3ms/step - loss: 0.0317 - accuracy: 0.9898 - val_loss: 0.0297 - val_accuracy: 0.9911\n",
      "Epoch 93/100\n",
      "1875/1875 [==============================] - 6s 3ms/step - loss: 0.0306 - accuracy: 0.9904 - val_loss: 0.0278 - val_accuracy: 0.9920\n",
      "Epoch 94/100\n",
      "1875/1875 [==============================] - 6s 3ms/step - loss: 0.0307 - accuracy: 0.9904 - val_loss: 0.0310 - val_accuracy: 0.9924\n",
      "Epoch 95/100\n",
      "1875/1875 [==============================] - 6s 3ms/step - loss: 0.0321 - accuracy: 0.9895 - val_loss: 0.0313 - val_accuracy: 0.9915\n",
      "Epoch 96/100\n",
      "1875/1875 [==============================] - 6s 3ms/step - loss: 0.0300 - accuracy: 0.9902 - val_loss: 0.0304 - val_accuracy: 0.9916\n",
      "Epoch 97/100\n",
      "1875/1875 [==============================] - 7s 4ms/step - loss: 0.0321 - accuracy: 0.9901 - val_loss: 0.0287 - val_accuracy: 0.9922\n",
      "Epoch 98/100\n",
      "1875/1875 [==============================] - 7s 4ms/step - loss: 0.0309 - accuracy: 0.9899 - val_loss: 0.0328 - val_accuracy: 0.9911\n",
      "Epoch 99/100\n",
      "1875/1875 [==============================] - 6s 3ms/step - loss: 0.0325 - accuracy: 0.9895 - val_loss: 0.0330 - val_accuracy: 0.9906\n",
      "Epoch 100/100\n",
      "1875/1875 [==============================] - 6s 3ms/step - loss: 0.0299 - accuracy: 0.9902 - val_loss: 0.0316 - val_accuracy: 0.9910\n"
     ]
    }
   ],
   "source": [
    "model = get_model()\n",
    "history = model.fit(train_data, train_labels, epochs = 100, validation_data=(test_data, test_labels))\n",
    "hist_dict = history.history"
   ]
  },
  {
   "cell_type": "code",
   "execution_count": 13,
   "metadata": {
    "colab": {},
    "colab_type": "code",
    "id": "oK4f00sjXt7A"
   },
   "outputs": [
    {
     "data": {
      "image/png": "[encoded data removed]",
      "text/plain": [
       "<Figure size 432x288 with 1 Axes>"
      ]
     },
     "metadata": {
      "needs_background": "light"
     },
     "output_type": "display_data"
    }
   ],
   "source": [
    "train_acc = hist_dict['accuracy']\n",
    "test_acc = hist_dict['val_accuracy']\n",
    "\n",
    "plt.plot(train_acc, label=\"Train Accuracy\")\n",
    "plt.plot(test_acc, label=\"Test Accuracy\")\n",
    "plt.legend()\n",
    "plt.xlabel(\"Epochs\")\n",
    "plt.ylabel(\"Accuracy\")\n",
    "plt.show()"
   ]
  }
 ],
 "metadata": {
  "accelerator": "GPU",
  "colab": {
   "name": "MNIST_k_fold_validation.ipynb",
   "provenance": []
  },
  "kernelspec": {
   "display_name": "Python 3",
   "language": "python",
   "name": "python3"
  },
  "language_info": {
   "codemirror_mode": {
    "name": "ipython",
    "version": 3
   },
   "file_extension": ".py",
   "mimetype": "text/x-python",
   "name": "python",
   "nbconvert_exporter": "python",
   "pygments_lexer": "ipython3",
   "version": "3.6.9"
  },
  "output_auto_scroll": true
 },
 "nbformat": 4,
 "nbformat_minor": 4
}
